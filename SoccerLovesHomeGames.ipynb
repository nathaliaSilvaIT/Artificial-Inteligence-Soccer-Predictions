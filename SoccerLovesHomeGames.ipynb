{
 "cells": [
  {
   "cell_type": "markdown",
   "metadata": {},
   "source": [
    "# SoccerLovesHomeGames\n",
    "\n",
    "In this project, we analyse the power that playing at home can have over soccer games"
   ]
  },
  {
   "cell_type": "markdown",
   "metadata": {},
   "source": [
    "# Preparing the DataSet"
   ]
  },
  {
   "cell_type": "code",
   "execution_count": 1,
   "metadata": {},
   "outputs": [],
   "source": [
    "import pandas as pd\n",
    "import matplotlib.pyplot as plt\n",
    "import numpy as np\n",
    "from sklearn.model_selection import train_test_split    \n",
    "from sklearn.naive_bayes import MultinomialNB  "
   ]
  },
  {
   "cell_type": "code",
   "execution_count": 2,
   "metadata": {},
   "outputs": [],
   "source": [
    "\n",
    "df = pd.read_csv(\"http://www.football-data.co.uk/mmz4281/1718/SP1.csv\")"
   ]
  },
  {
   "cell_type": "code",
   "execution_count": 3,
   "metadata": {},
   "outputs": [
    {
     "data": {
      "text/html": [
       "<div>\n",
       "<style scoped>\n",
       "    .dataframe tbody tr th:only-of-type {\n",
       "        vertical-align: middle;\n",
       "    }\n",
       "\n",
       "    .dataframe tbody tr th {\n",
       "        vertical-align: top;\n",
       "    }\n",
       "\n",
       "    .dataframe thead th {\n",
       "        text-align: right;\n",
       "    }\n",
       "</style>\n",
       "<table border=\"1\" class=\"dataframe\">\n",
       "  <thead>\n",
       "    <tr style=\"text-align: right;\">\n",
       "      <th></th>\n",
       "      <th>Div</th>\n",
       "      <th>Date</th>\n",
       "      <th>HomeTeam</th>\n",
       "      <th>AwayTeam</th>\n",
       "      <th>FTHG</th>\n",
       "      <th>FTAG</th>\n",
       "      <th>FTR</th>\n",
       "      <th>HTHG</th>\n",
       "      <th>HTAG</th>\n",
       "      <th>HTR</th>\n",
       "      <th>...</th>\n",
       "      <th>BbAv&lt;2.5</th>\n",
       "      <th>BbAH</th>\n",
       "      <th>BbAHh</th>\n",
       "      <th>BbMxAHH</th>\n",
       "      <th>BbAvAHH</th>\n",
       "      <th>BbMxAHA</th>\n",
       "      <th>BbAvAHA</th>\n",
       "      <th>PSCH</th>\n",
       "      <th>PSCD</th>\n",
       "      <th>PSCA</th>\n",
       "    </tr>\n",
       "  </thead>\n",
       "  <tbody>\n",
       "    <tr>\n",
       "      <th>0</th>\n",
       "      <td>SP1</td>\n",
       "      <td>18/08/17</td>\n",
       "      <td>Leganes</td>\n",
       "      <td>Alaves</td>\n",
       "      <td>1</td>\n",
       "      <td>0</td>\n",
       "      <td>H</td>\n",
       "      <td>1</td>\n",
       "      <td>0</td>\n",
       "      <td>H</td>\n",
       "      <td>...</td>\n",
       "      <td>1.46</td>\n",
       "      <td>18</td>\n",
       "      <td>-0.50</td>\n",
       "      <td>2.07</td>\n",
       "      <td>2.03</td>\n",
       "      <td>1.90</td>\n",
       "      <td>1.86</td>\n",
       "      <td>1.98</td>\n",
       "      <td>3.35</td>\n",
       "      <td>4.63</td>\n",
       "    </tr>\n",
       "    <tr>\n",
       "      <th>1</th>\n",
       "      <td>SP1</td>\n",
       "      <td>18/08/17</td>\n",
       "      <td>Valencia</td>\n",
       "      <td>Las Palmas</td>\n",
       "      <td>1</td>\n",
       "      <td>0</td>\n",
       "      <td>H</td>\n",
       "      <td>1</td>\n",
       "      <td>0</td>\n",
       "      <td>H</td>\n",
       "      <td>...</td>\n",
       "      <td>2.27</td>\n",
       "      <td>16</td>\n",
       "      <td>-0.75</td>\n",
       "      <td>2.05</td>\n",
       "      <td>1.97</td>\n",
       "      <td>1.96</td>\n",
       "      <td>1.91</td>\n",
       "      <td>1.78</td>\n",
       "      <td>4.24</td>\n",
       "      <td>4.43</td>\n",
       "    </tr>\n",
       "    <tr>\n",
       "      <th>2</th>\n",
       "      <td>SP1</td>\n",
       "      <td>19/08/17</td>\n",
       "      <td>Celta</td>\n",
       "      <td>Sociedad</td>\n",
       "      <td>2</td>\n",
       "      <td>3</td>\n",
       "      <td>A</td>\n",
       "      <td>1</td>\n",
       "      <td>1</td>\n",
       "      <td>D</td>\n",
       "      <td>...</td>\n",
       "      <td>1.84</td>\n",
       "      <td>18</td>\n",
       "      <td>-0.25</td>\n",
       "      <td>2.08</td>\n",
       "      <td>2.05</td>\n",
       "      <td>1.87</td>\n",
       "      <td>1.83</td>\n",
       "      <td>2.12</td>\n",
       "      <td>3.53</td>\n",
       "      <td>3.74</td>\n",
       "    </tr>\n",
       "    <tr>\n",
       "      <th>3</th>\n",
       "      <td>SP1</td>\n",
       "      <td>19/08/17</td>\n",
       "      <td>Girona</td>\n",
       "      <td>Ath Madrid</td>\n",
       "      <td>2</td>\n",
       "      <td>2</td>\n",
       "      <td>D</td>\n",
       "      <td>2</td>\n",
       "      <td>0</td>\n",
       "      <td>H</td>\n",
       "      <td>...</td>\n",
       "      <td>1.74</td>\n",
       "      <td>16</td>\n",
       "      <td>1.25</td>\n",
       "      <td>1.77</td>\n",
       "      <td>1.75</td>\n",
       "      <td>2.25</td>\n",
       "      <td>2.16</td>\n",
       "      <td>6.93</td>\n",
       "      <td>3.83</td>\n",
       "      <td>1.63</td>\n",
       "    </tr>\n",
       "    <tr>\n",
       "      <th>4</th>\n",
       "      <td>SP1</td>\n",
       "      <td>19/08/17</td>\n",
       "      <td>Sevilla</td>\n",
       "      <td>Espanol</td>\n",
       "      <td>1</td>\n",
       "      <td>1</td>\n",
       "      <td>D</td>\n",
       "      <td>1</td>\n",
       "      <td>1</td>\n",
       "      <td>D</td>\n",
       "      <td>...</td>\n",
       "      <td>2.09</td>\n",
       "      <td>16</td>\n",
       "      <td>-1.00</td>\n",
       "      <td>2.12</td>\n",
       "      <td>2.06</td>\n",
       "      <td>1.86</td>\n",
       "      <td>1.82</td>\n",
       "      <td>1.64</td>\n",
       "      <td>4.18</td>\n",
       "      <td>5.82</td>\n",
       "    </tr>\n",
       "    <tr>\n",
       "      <th>...</th>\n",
       "      <td>...</td>\n",
       "      <td>...</td>\n",
       "      <td>...</td>\n",
       "      <td>...</td>\n",
       "      <td>...</td>\n",
       "      <td>...</td>\n",
       "      <td>...</td>\n",
       "      <td>...</td>\n",
       "      <td>...</td>\n",
       "      <td>...</td>\n",
       "      <td>...</td>\n",
       "      <td>...</td>\n",
       "      <td>...</td>\n",
       "      <td>...</td>\n",
       "      <td>...</td>\n",
       "      <td>...</td>\n",
       "      <td>...</td>\n",
       "      <td>...</td>\n",
       "      <td>...</td>\n",
       "      <td>...</td>\n",
       "      <td>...</td>\n",
       "    </tr>\n",
       "    <tr>\n",
       "      <th>375</th>\n",
       "      <td>SP1</td>\n",
       "      <td>19/05/18</td>\n",
       "      <td>Villarreal</td>\n",
       "      <td>Real Madrid</td>\n",
       "      <td>2</td>\n",
       "      <td>2</td>\n",
       "      <td>D</td>\n",
       "      <td>0</td>\n",
       "      <td>2</td>\n",
       "      <td>A</td>\n",
       "      <td>...</td>\n",
       "      <td>3.79</td>\n",
       "      <td>19</td>\n",
       "      <td>0.25</td>\n",
       "      <td>2.05</td>\n",
       "      <td>1.98</td>\n",
       "      <td>1.93</td>\n",
       "      <td>1.87</td>\n",
       "      <td>4.74</td>\n",
       "      <td>5.05</td>\n",
       "      <td>1.62</td>\n",
       "    </tr>\n",
       "    <tr>\n",
       "      <th>376</th>\n",
       "      <td>SP1</td>\n",
       "      <td>20/05/18</td>\n",
       "      <td>Ath Bilbao</td>\n",
       "      <td>Espanol</td>\n",
       "      <td>0</td>\n",
       "      <td>1</td>\n",
       "      <td>A</td>\n",
       "      <td>0</td>\n",
       "      <td>1</td>\n",
       "      <td>A</td>\n",
       "      <td>...</td>\n",
       "      <td>2.06</td>\n",
       "      <td>17</td>\n",
       "      <td>-0.50</td>\n",
       "      <td>2.06</td>\n",
       "      <td>2.02</td>\n",
       "      <td>1.88</td>\n",
       "      <td>1.85</td>\n",
       "      <td>1.95</td>\n",
       "      <td>3.77</td>\n",
       "      <td>4.05</td>\n",
       "    </tr>\n",
       "    <tr>\n",
       "      <th>377</th>\n",
       "      <td>SP1</td>\n",
       "      <td>20/05/18</td>\n",
       "      <td>Ath Madrid</td>\n",
       "      <td>Eibar</td>\n",
       "      <td>2</td>\n",
       "      <td>2</td>\n",
       "      <td>D</td>\n",
       "      <td>1</td>\n",
       "      <td>1</td>\n",
       "      <td>D</td>\n",
       "      <td>...</td>\n",
       "      <td>1.98</td>\n",
       "      <td>19</td>\n",
       "      <td>-1.00</td>\n",
       "      <td>2.09</td>\n",
       "      <td>2.04</td>\n",
       "      <td>1.87</td>\n",
       "      <td>1.82</td>\n",
       "      <td>1.47</td>\n",
       "      <td>4.25</td>\n",
       "      <td>8.80</td>\n",
       "    </tr>\n",
       "    <tr>\n",
       "      <th>378</th>\n",
       "      <td>SP1</td>\n",
       "      <td>20/05/18</td>\n",
       "      <td>Barcelona</td>\n",
       "      <td>Sociedad</td>\n",
       "      <td>1</td>\n",
       "      <td>0</td>\n",
       "      <td>H</td>\n",
       "      <td>0</td>\n",
       "      <td>0</td>\n",
       "      <td>D</td>\n",
       "      <td>...</td>\n",
       "      <td>5.04</td>\n",
       "      <td>19</td>\n",
       "      <td>-2.00</td>\n",
       "      <td>1.94</td>\n",
       "      <td>1.89</td>\n",
       "      <td>2.03</td>\n",
       "      <td>1.97</td>\n",
       "      <td>1.31</td>\n",
       "      <td>6.40</td>\n",
       "      <td>8.60</td>\n",
       "    </tr>\n",
       "    <tr>\n",
       "      <th>379</th>\n",
       "      <td>SP1</td>\n",
       "      <td>20/05/18</td>\n",
       "      <td>Valencia</td>\n",
       "      <td>La Coruna</td>\n",
       "      <td>2</td>\n",
       "      <td>1</td>\n",
       "      <td>H</td>\n",
       "      <td>1</td>\n",
       "      <td>0</td>\n",
       "      <td>H</td>\n",
       "      <td>...</td>\n",
       "      <td>2.98</td>\n",
       "      <td>19</td>\n",
       "      <td>-1.50</td>\n",
       "      <td>2.01</td>\n",
       "      <td>1.97</td>\n",
       "      <td>1.94</td>\n",
       "      <td>1.89</td>\n",
       "      <td>1.27</td>\n",
       "      <td>6.44</td>\n",
       "      <td>10.71</td>\n",
       "    </tr>\n",
       "  </tbody>\n",
       "</table>\n",
       "<p>380 rows × 64 columns</p>\n",
       "</div>"
      ],
      "text/plain": [
       "     Div      Date    HomeTeam     AwayTeam  FTHG  FTAG FTR  HTHG  HTAG HTR  \\\n",
       "0    SP1  18/08/17     Leganes       Alaves     1     0   H     1     0   H   \n",
       "1    SP1  18/08/17    Valencia   Las Palmas     1     0   H     1     0   H   \n",
       "2    SP1  19/08/17       Celta     Sociedad     2     3   A     1     1   D   \n",
       "3    SP1  19/08/17      Girona   Ath Madrid     2     2   D     2     0   H   \n",
       "4    SP1  19/08/17     Sevilla      Espanol     1     1   D     1     1   D   \n",
       "..   ...       ...         ...          ...   ...   ...  ..   ...   ...  ..   \n",
       "375  SP1  19/05/18  Villarreal  Real Madrid     2     2   D     0     2   A   \n",
       "376  SP1  20/05/18  Ath Bilbao      Espanol     0     1   A     0     1   A   \n",
       "377  SP1  20/05/18  Ath Madrid        Eibar     2     2   D     1     1   D   \n",
       "378  SP1  20/05/18   Barcelona     Sociedad     1     0   H     0     0   D   \n",
       "379  SP1  20/05/18    Valencia    La Coruna     2     1   H     1     0   H   \n",
       "\n",
       "     ...  BbAv<2.5  BbAH  BbAHh  BbMxAHH  BbAvAHH  BbMxAHA  BbAvAHA  PSCH  \\\n",
       "0    ...      1.46    18  -0.50     2.07     2.03     1.90     1.86  1.98   \n",
       "1    ...      2.27    16  -0.75     2.05     1.97     1.96     1.91  1.78   \n",
       "2    ...      1.84    18  -0.25     2.08     2.05     1.87     1.83  2.12   \n",
       "3    ...      1.74    16   1.25     1.77     1.75     2.25     2.16  6.93   \n",
       "4    ...      2.09    16  -1.00     2.12     2.06     1.86     1.82  1.64   \n",
       "..   ...       ...   ...    ...      ...      ...      ...      ...   ...   \n",
       "375  ...      3.79    19   0.25     2.05     1.98     1.93     1.87  4.74   \n",
       "376  ...      2.06    17  -0.50     2.06     2.02     1.88     1.85  1.95   \n",
       "377  ...      1.98    19  -1.00     2.09     2.04     1.87     1.82  1.47   \n",
       "378  ...      5.04    19  -2.00     1.94     1.89     2.03     1.97  1.31   \n",
       "379  ...      2.98    19  -1.50     2.01     1.97     1.94     1.89  1.27   \n",
       "\n",
       "     PSCD   PSCA  \n",
       "0    3.35   4.63  \n",
       "1    4.24   4.43  \n",
       "2    3.53   3.74  \n",
       "3    3.83   1.63  \n",
       "4    4.18   5.82  \n",
       "..    ...    ...  \n",
       "375  5.05   1.62  \n",
       "376  3.77   4.05  \n",
       "377  4.25   8.80  \n",
       "378  6.40   8.60  \n",
       "379  6.44  10.71  \n",
       "\n",
       "[380 rows x 64 columns]"
      ]
     },
     "execution_count": 3,
     "metadata": {},
     "output_type": "execute_result"
    }
   ],
   "source": [
    "#table with data about the Spanish Soccer League (La Liga) for the 2017/18 season\n",
    "df"
   ]
  },
  {
   "cell_type": "code",
   "execution_count": 4,
   "metadata": {},
   "outputs": [
    {
     "data": {
      "text/plain": [
       "array(['Leganes', 'Valencia', 'Celta', 'Girona', 'Sevilla', 'Ath Bilbao',\n",
       "       'Barcelona', 'La Coruna', 'Levante', 'Malaga', 'Betis', 'Sociedad',\n",
       "       'Alaves', 'Las Palmas', 'Eibar', 'Espanol', 'Getafe',\n",
       "       'Real Madrid', 'Villarreal', 'Ath Madrid'], dtype=object)"
      ]
     },
     "execution_count": 4,
     "metadata": {},
     "output_type": "execute_result"
    }
   ],
   "source": [
    "#name of all teams in the league for that season\n",
    "teams_number = df.HomeTeam.unique()\n",
    "teams_number "
   ]
  },
  {
   "cell_type": "code",
   "execution_count": 5,
   "metadata": {},
   "outputs": [
    {
     "data": {
      "text/plain": [
       "20"
      ]
     },
     "execution_count": 5,
     "metadata": {},
     "output_type": "execute_result"
    }
   ],
   "source": [
    "#number of all teams in the league for that season\n",
    "len(teams_number )\n"
   ]
  },
  {
   "cell_type": "code",
   "execution_count": 6,
   "metadata": {},
   "outputs": [
    {
     "data": {
      "text/html": [
       "<div>\n",
       "<style scoped>\n",
       "    .dataframe tbody tr th:only-of-type {\n",
       "        vertical-align: middle;\n",
       "    }\n",
       "\n",
       "    .dataframe tbody tr th {\n",
       "        vertical-align: top;\n",
       "    }\n",
       "\n",
       "    .dataframe thead th {\n",
       "        text-align: right;\n",
       "    }\n",
       "</style>\n",
       "<table border=\"1\" class=\"dataframe\">\n",
       "  <thead>\n",
       "    <tr style=\"text-align: right;\">\n",
       "      <th></th>\n",
       "      <th>HomeTeam</th>\n",
       "      <th>AwayTeam</th>\n",
       "      <th>FTHG</th>\n",
       "      <th>FTAG</th>\n",
       "    </tr>\n",
       "  </thead>\n",
       "  <tbody>\n",
       "    <tr>\n",
       "      <th>0</th>\n",
       "      <td>Leganes</td>\n",
       "      <td>Alaves</td>\n",
       "      <td>1</td>\n",
       "      <td>0</td>\n",
       "    </tr>\n",
       "    <tr>\n",
       "      <th>1</th>\n",
       "      <td>Valencia</td>\n",
       "      <td>Las Palmas</td>\n",
       "      <td>1</td>\n",
       "      <td>0</td>\n",
       "    </tr>\n",
       "    <tr>\n",
       "      <th>2</th>\n",
       "      <td>Celta</td>\n",
       "      <td>Sociedad</td>\n",
       "      <td>2</td>\n",
       "      <td>3</td>\n",
       "    </tr>\n",
       "    <tr>\n",
       "      <th>3</th>\n",
       "      <td>Girona</td>\n",
       "      <td>Ath Madrid</td>\n",
       "      <td>2</td>\n",
       "      <td>2</td>\n",
       "    </tr>\n",
       "    <tr>\n",
       "      <th>4</th>\n",
       "      <td>Sevilla</td>\n",
       "      <td>Espanol</td>\n",
       "      <td>1</td>\n",
       "      <td>1</td>\n",
       "    </tr>\n",
       "    <tr>\n",
       "      <th>...</th>\n",
       "      <td>...</td>\n",
       "      <td>...</td>\n",
       "      <td>...</td>\n",
       "      <td>...</td>\n",
       "    </tr>\n",
       "    <tr>\n",
       "      <th>375</th>\n",
       "      <td>Villarreal</td>\n",
       "      <td>Real Madrid</td>\n",
       "      <td>2</td>\n",
       "      <td>2</td>\n",
       "    </tr>\n",
       "    <tr>\n",
       "      <th>376</th>\n",
       "      <td>Ath Bilbao</td>\n",
       "      <td>Espanol</td>\n",
       "      <td>0</td>\n",
       "      <td>1</td>\n",
       "    </tr>\n",
       "    <tr>\n",
       "      <th>377</th>\n",
       "      <td>Ath Madrid</td>\n",
       "      <td>Eibar</td>\n",
       "      <td>2</td>\n",
       "      <td>2</td>\n",
       "    </tr>\n",
       "    <tr>\n",
       "      <th>378</th>\n",
       "      <td>Barcelona</td>\n",
       "      <td>Sociedad</td>\n",
       "      <td>1</td>\n",
       "      <td>0</td>\n",
       "    </tr>\n",
       "    <tr>\n",
       "      <th>379</th>\n",
       "      <td>Valencia</td>\n",
       "      <td>La Coruna</td>\n",
       "      <td>2</td>\n",
       "      <td>1</td>\n",
       "    </tr>\n",
       "  </tbody>\n",
       "</table>\n",
       "<p>380 rows × 4 columns</p>\n",
       "</div>"
      ],
      "text/plain": [
       "       HomeTeam     AwayTeam  FTHG  FTAG\n",
       "0       Leganes       Alaves     1     0\n",
       "1      Valencia   Las Palmas     1     0\n",
       "2         Celta     Sociedad     2     3\n",
       "3        Girona   Ath Madrid     2     2\n",
       "4       Sevilla      Espanol     1     1\n",
       "..          ...          ...   ...   ...\n",
       "375  Villarreal  Real Madrid     2     2\n",
       "376  Ath Bilbao      Espanol     0     1\n",
       "377  Ath Madrid        Eibar     2     2\n",
       "378   Barcelona     Sociedad     1     0\n",
       "379    Valencia    La Coruna     2     1\n",
       "\n",
       "[380 rows x 4 columns]"
      ]
     },
     "execution_count": 6,
     "metadata": {},
     "output_type": "execute_result"
    }
   ],
   "source": [
    "#let's reduce the table, and display only the info that is important for us : team names, and goal counts\n",
    "df = df[['HomeTeam','AwayTeam','FTHG','FTAG']]\n",
    "df"
   ]
  },
  {
   "cell_type": "code",
   "execution_count": 7,
   "metadata": {},
   "outputs": [],
   "source": [
    "#let's remane the table headers and make them redable \n",
    "df = df.rename(columns={'HomeTeam': 'Home_Team','AwayTeam': 'Away_Team','FTHG': 'Home_Goals', 'FTAG': 'Away_Goals'})"
   ]
  },
  {
   "cell_type": "code",
   "execution_count": 8,
   "metadata": {},
   "outputs": [
    {
     "data": {
      "text/html": [
       "<div>\n",
       "<style scoped>\n",
       "    .dataframe tbody tr th:only-of-type {\n",
       "        vertical-align: middle;\n",
       "    }\n",
       "\n",
       "    .dataframe tbody tr th {\n",
       "        vertical-align: top;\n",
       "    }\n",
       "\n",
       "    .dataframe thead th {\n",
       "        text-align: right;\n",
       "    }\n",
       "</style>\n",
       "<table border=\"1\" class=\"dataframe\">\n",
       "  <thead>\n",
       "    <tr style=\"text-align: right;\">\n",
       "      <th></th>\n",
       "      <th>Home_Team</th>\n",
       "      <th>Away_Team</th>\n",
       "      <th>Home_Goals</th>\n",
       "      <th>Away_Goals</th>\n",
       "    </tr>\n",
       "  </thead>\n",
       "  <tbody>\n",
       "    <tr>\n",
       "      <th>0</th>\n",
       "      <td>Leganes</td>\n",
       "      <td>Alaves</td>\n",
       "      <td>1</td>\n",
       "      <td>0</td>\n",
       "    </tr>\n",
       "    <tr>\n",
       "      <th>1</th>\n",
       "      <td>Valencia</td>\n",
       "      <td>Las Palmas</td>\n",
       "      <td>1</td>\n",
       "      <td>0</td>\n",
       "    </tr>\n",
       "    <tr>\n",
       "      <th>2</th>\n",
       "      <td>Celta</td>\n",
       "      <td>Sociedad</td>\n",
       "      <td>2</td>\n",
       "      <td>3</td>\n",
       "    </tr>\n",
       "    <tr>\n",
       "      <th>3</th>\n",
       "      <td>Girona</td>\n",
       "      <td>Ath Madrid</td>\n",
       "      <td>2</td>\n",
       "      <td>2</td>\n",
       "    </tr>\n",
       "    <tr>\n",
       "      <th>4</th>\n",
       "      <td>Sevilla</td>\n",
       "      <td>Espanol</td>\n",
       "      <td>1</td>\n",
       "      <td>1</td>\n",
       "    </tr>\n",
       "  </tbody>\n",
       "</table>\n",
       "</div>"
      ],
      "text/plain": [
       "  Home_Team   Away_Team  Home_Goals  Away_Goals\n",
       "0   Leganes      Alaves           1           0\n",
       "1  Valencia  Las Palmas           1           0\n",
       "2     Celta    Sociedad           2           3\n",
       "3    Girona  Ath Madrid           2           2\n",
       "4   Sevilla     Espanol           1           1"
      ]
     },
     "execution_count": 8,
     "metadata": {},
     "output_type": "execute_result"
    }
   ],
   "source": [
    "#let's show a sample of what our table currently looks like\n",
    "df.head()"
   ]
  },
  {
   "cell_type": "markdown",
   "metadata": {},
   "source": [
    "# Modeling our data"
   ]
  },
  {
   "cell_type": "code",
   "execution_count": 9,
   "metadata": {},
   "outputs": [
    {
     "name": "stdout",
     "output_type": "stream",
     "text": [
      "      Home_Team    Away_Team  Home_Goals  Away_Goals Home_Wins Home_Draws\n",
      "0       Leganes       Alaves           1           0      True      False\n",
      "1      Valencia   Las Palmas           1           0      True      False\n",
      "2         Celta     Sociedad           2           3     False      False\n",
      "3        Girona   Ath Madrid           2           2     False       True\n",
      "4       Sevilla      Espanol           1           1     False       True\n",
      "..          ...          ...         ...         ...       ...        ...\n",
      "375  Villarreal  Real Madrid           2           2     False       True\n",
      "376  Ath Bilbao      Espanol           0           1     False      False\n",
      "377  Ath Madrid        Eibar           2           2     False       True\n",
      "378   Barcelona     Sociedad           1           0      True      False\n",
      "379    Valencia    La Coruna           2           1      True      False\n",
      "\n",
      "[380 rows x 6 columns]\n"
     ]
    }
   ],
   "source": [
    "#let's create columns to display if the Home team was able to either win or have a draw \n",
    "\n",
    "df['Home_Wins'] = np.where(df.Home_Goals > df.Away_Goals, \"True\", \"False\")\n",
    "\n",
    "df['Home_Draws'] = np.where(df.Home_Goals == df.Away_Goals, \"True\", \"False\")\n",
    "\n",
    "print(df)"
   ]
  },
  {
   "cell_type": "code",
   "execution_count": 10,
   "metadata": {},
   "outputs": [
    {
     "name": "stdout",
     "output_type": "stream",
     "text": [
      "Home team wins :  179  times\n"
     ]
    }
   ],
   "source": [
    "#calculating how many times the home team wins in this dataset\n",
    "\n",
    "df_HomeWinners = df.Home_Wins   == \"True\"\n",
    "\n",
    "df_HomeLosers = df.Home_Wins   == \"False\"\n",
    "\n",
    "print('Home team wins : ',  len(df[df_HomeWinners]) , \" times\")"
   ]
  },
  {
   "cell_type": "code",
   "execution_count": 11,
   "metadata": {},
   "outputs": [
    {
     "name": "stdout",
     "output_type": "stream",
     "text": [
      "Home team draws :  86  times\n"
     ]
    }
   ],
   "source": [
    "#calculating how many times the home team get a draw\n",
    "\n",
    "df_HomeTies = df.Home_Draws   == \"True\"\n",
    "\n",
    "print('Home team draws : ' , len(df[df_HomeTies]) , \" times\")"
   ]
  },
  {
   "cell_type": "code",
   "execution_count": 12,
   "metadata": {},
   "outputs": [
    {
     "name": "stdout",
     "output_type": "stream",
     "text": [
      "Home team wins or has a draw :  265  times\n"
     ]
    }
   ],
   "source": [
    "#let's put togehter all the positive results (wins + draws)\n",
    "\n",
    "df_HomeGoodResults = df[df_HomeWinners] + df[df_HomeTies]\n",
    "\n",
    "print('Home team wins or has a draw : ' , len(df_HomeGoodResults.index), \" times\")"
   ]
  },
  {
   "cell_type": "code",
   "execution_count": 13,
   "metadata": {},
   "outputs": [
    {
     "name": "stdout",
     "output_type": "stream",
     "text": [
      "Home team loses :  115  times\n"
     ]
    }
   ],
   "source": [
    "#on the other hand, let's check the sum of all negative results (losses)\n",
    "\n",
    "df_HomeBadResults = len(df.index) - len(df_HomeGoodResults.index)\n",
    "\n",
    "print('Home team loses : ' , df_HomeBadResults, \" times\")"
   ]
  },
  {
   "cell_type": "code",
   "execution_count": 14,
   "metadata": {},
   "outputs": [
    {
     "name": "stdout",
     "output_type": "stream",
     "text": [
      "\n",
      "Home team wins :  179  times\n",
      "Home team wins or has a draw :  265  times\n",
      "\n",
      "Since the total number of matches is equal to 360, we can say that Teams had good performance when playing home\n"
     ]
    }
   ],
   "source": [
    "#therefore, we can say that\n",
    "print()\n",
    "print('Home team wins : ',  len(df[df_HomeWinners]) , \" times\")\n",
    "print('Home team wins or has a draw : ' , len(df_HomeGoodResults.index), \" times\")\n",
    "print()\n",
    "print('Since the total number of matches is equal to 360, we can say that Teams had good performance when playing home')"
   ]
  },
  {
   "cell_type": "markdown",
   "metadata": {},
   "source": [
    "# Analysing number of Goals "
   ]
  },
  {
   "cell_type": "code",
   "execution_count": 15,
   "metadata": {},
   "outputs": [
    {
     "data": {
      "text/plain": [
       "Home_Goals    7\n",
       "Away_Goals    6\n",
       "dtype: int64"
      ]
     },
     "execution_count": 15,
     "metadata": {},
     "output_type": "execute_result"
    }
   ],
   "source": [
    "#Let's see if teams in La Liga were able to score better when in home\n",
    "\n",
    "#we can start our analysis by checking the maximum number of goals scored at home and away in the whole league\n",
    "\n",
    "df[['Home_Goals', 'Away_Goals']].max()"
   ]
  },
  {
   "cell_type": "code",
   "execution_count": 16,
   "metadata": {},
   "outputs": [
    {
     "data": {
      "text/plain": [
       "Home_Goals    1.547368\n",
       "Away_Goals    1.147368\n",
       "dtype: float64"
      ]
     },
     "execution_count": 16,
     "metadata": {},
     "output_type": "execute_result"
    }
   ],
   "source": [
    "# it's also possible to look into the average of goals scored at home and away in the whole league\n",
    "\n",
    "df[['Home_Goals', 'Away_Goals']].mean()"
   ]
  },
  {
   "cell_type": "code",
   "execution_count": 17,
   "metadata": {},
   "outputs": [
    {
     "name": "stdout",
     "output_type": "stream",
     "text": [
      "\n",
      "At home : max       7.00\n",
      "sum     588.00\n",
      "mean      1.55\n",
      "std       1.38\n",
      "Name: Home_Goals, dtype: float64\n",
      "\n",
      "Away  : max       6.00\n",
      "sum     436.00\n",
      "mean      1.15\n",
      "std       1.19\n",
      "Name: Away_Goals, dtype: float64\n"
     ]
    }
   ],
   "source": [
    "# let's show here the calculation of the min, max, std of the two sort of goals\n",
    "\n",
    "print('\\nAt home :', df['Home_Goals'].agg(['max', 'sum', 'mean', 'std']).round(2))\n",
    "print('\\nAway  :', df['Away_Goals'].agg(['max', 'sum', 'mean', 'std']).round(2))\n"
   ]
  },
  {
   "cell_type": "markdown",
   "metadata": {},
   "source": [
    "# Winning at home : numbers"
   ]
  },
  {
   "cell_type": "code",
   "execution_count": 18,
   "metadata": {},
   "outputs": [
    {
     "name": "stdout",
     "output_type": "stream",
     "text": [
      "\n",
      "\n",
      "There were 19 Barcelona Home Games\n"
     ]
    }
   ],
   "source": [
    "# Since La Liga has 20 team, there are  38 match-rounds in the season >> 20*2 - 2 = 38\n",
    "\n",
    "# Therefore, each team plays at home the exaclty half of season match >> (38-2) / 2 = 18 \n",
    "\n",
    "# Let's verify this count how many times a team played at home (e.g. Barcelona)\n",
    "\n",
    "\n",
    "df_Barca_Home = df['Home_Team'].str.contains('Barcelona').sum()\n",
    "\n",
    "df_Barca_Home\n",
    "\n",
    "\n",
    "print (\"\\n\\nThere were {m} Barcelona Home Games\".format(m=df_Barca_Home))\n"
   ]
  },
  {
   "cell_type": "code",
   "execution_count": 19,
   "metadata": {},
   "outputs": [
    {
     "name": "stdout",
     "output_type": "stream",
     "text": [
      "     Home_Team    Away_Team  Home_Goals  Away_Goals Home_Wins Home_Draws\n",
      "6    Barcelona        Betis           2           0      True      False\n",
      "21   Barcelona      Espanol           5           0      True      False\n",
      "40   Barcelona        Eibar           6           1      True      False\n",
      "65   Barcelona   Las Palmas           3           0      True      False\n",
      "80   Barcelona       Malaga           2           0      True      False\n",
      "102  Barcelona      Sevilla           2           1      True      False\n",
      "133  Barcelona        Celta           2           2     False       True\n",
      "154  Barcelona    La Coruna           4           0      True      False\n",
      "174  Barcelona      Levante           3           0      True      False\n",
      "205  Barcelona       Alaves           2           1      True      False\n",
      "224  Barcelona       Getafe           0           0     False       True\n",
      "241  Barcelona       Girona           6           1      True      False\n",
      "265  Barcelona   Ath Madrid           1           0      True      False\n",
      "285  Barcelona   Ath Bilbao           2           0      True      False\n",
      "302  Barcelona      Leganes           3           1      True      False\n",
      "312  Barcelona     Valencia           2           1      True      False\n",
      "354  Barcelona  Real Madrid           2           2     False       True\n",
      "358  Barcelona   Villarreal           5           1      True      False\n",
      "378  Barcelona     Sociedad           1           0      True      False\n"
     ]
    },
    {
     "data": {
      "text/plain": [
       "19"
      ]
     },
     "execution_count": 19,
     "metadata": {},
     "output_type": "execute_result"
    }
   ],
   "source": [
    "# let's see the list of games, and get to know the number of games at home\n",
    "\n",
    "filterinfDataframe = df[(df['Home_Team'] == \"Barcelona\") ]\n",
    "\n",
    "print(filterinfDataframe)\n",
    "len(filterinfDataframe)"
   ]
  },
  {
   "cell_type": "code",
   "execution_count": 20,
   "metadata": {},
   "outputs": [
    {
     "name": "stdout",
     "output_type": "stream",
     "text": [
      "\n",
      "\n",
      "There were 19 Espanyol Home Games\n",
      "\n",
      "\n",
      "There were 19 Sevilla Home Games\n"
     ]
    }
   ],
   "source": [
    "# Here, we will create variables to store this same data regarding two other teams > Espanol and Sevilla\n",
    "\n",
    "df_Espanol_Home = df['Home_Team'].str.contains('Espanol').sum()\n",
    "df_Sevilla_Home = df['Home_Team'].str.contains('Sevilla').sum()\n",
    "\n",
    "print (\"\\n\\nThere were {m} Espanyol Home Games\".format(m=df_Espanol_Home))\n",
    "print (\"\\n\\nThere were {m} Sevilla Home Games\".format(m=df_Sevilla_Home))\n"
   ]
  },
  {
   "cell_type": "code",
   "execution_count": 21,
   "metadata": {},
   "outputs": [],
   "source": [
    "# from this sample, we are going to count how many times a team wins at Home\n",
    "\n",
    "filterDf = df[(df['Home_Goals'] > df['Away_Goals']) & (df['Home_Team'] == \"Barcelona\") ]\n",
    "\n",
    "#filterDf"
   ]
  },
  {
   "cell_type": "code",
   "execution_count": 22,
   "metadata": {},
   "outputs": [
    {
     "name": "stdout",
     "output_type": "stream",
     "text": [
      "Barcelona won 16 Home Games out of 18 games\n"
     ]
    }
   ],
   "source": [
    "print (\"Barcelona won {m} Home Games\".format(m=len(filterDf)), 'out of 18 games')"
   ]
  },
  {
   "cell_type": "code",
   "execution_count": 23,
   "metadata": {},
   "outputs": [
    {
     "name": "stdout",
     "output_type": "stream",
     "text": [
      "\n",
      "Barcelona won 84.0 % of its games when playing at home\n",
      "\n"
     ]
    }
   ],
   "source": [
    "winPercentage =  (len(filterDf)/df_Barca_Home).round(2)\n",
    "\n",
    "print(\"\\nBarcelona won\", winPercentage *100, '% of its games when playing at home\\n')"
   ]
  },
  {
   "cell_type": "code",
   "execution_count": 24,
   "metadata": {},
   "outputs": [
    {
     "data": {
      "text/html": [
       "<div>\n",
       "<style scoped>\n",
       "    .dataframe tbody tr th:only-of-type {\n",
       "        vertical-align: middle;\n",
       "    }\n",
       "\n",
       "    .dataframe tbody tr th {\n",
       "        vertical-align: top;\n",
       "    }\n",
       "\n",
       "    .dataframe thead th {\n",
       "        text-align: right;\n",
       "    }\n",
       "</style>\n",
       "<table border=\"1\" class=\"dataframe\">\n",
       "  <thead>\n",
       "    <tr style=\"text-align: right;\">\n",
       "      <th></th>\n",
       "      <th>Home_Team</th>\n",
       "      <th>Away_Team</th>\n",
       "      <th>Home_Goals</th>\n",
       "      <th>Away_Goals</th>\n",
       "      <th>Home_Wins</th>\n",
       "      <th>Home_Draws</th>\n",
       "    </tr>\n",
       "  </thead>\n",
       "  <tbody>\n",
       "    <tr>\n",
       "      <th>23</th>\n",
       "      <td>Sevilla</td>\n",
       "      <td>Eibar</td>\n",
       "      <td>3</td>\n",
       "      <td>0</td>\n",
       "      <td>True</td>\n",
       "      <td>False</td>\n",
       "    </tr>\n",
       "    <tr>\n",
       "      <th>46</th>\n",
       "      <td>Sevilla</td>\n",
       "      <td>Las Palmas</td>\n",
       "      <td>1</td>\n",
       "      <td>0</td>\n",
       "      <td>True</td>\n",
       "      <td>False</td>\n",
       "    </tr>\n",
       "    <tr>\n",
       "      <th>64</th>\n",
       "      <td>Sevilla</td>\n",
       "      <td>Malaga</td>\n",
       "      <td>2</td>\n",
       "      <td>0</td>\n",
       "      <td>True</td>\n",
       "      <td>False</td>\n",
       "    </tr>\n",
       "    <tr>\n",
       "      <th>93</th>\n",
       "      <td>Sevilla</td>\n",
       "      <td>Leganes</td>\n",
       "      <td>2</td>\n",
       "      <td>1</td>\n",
       "      <td>True</td>\n",
       "      <td>False</td>\n",
       "    </tr>\n",
       "    <tr>\n",
       "      <th>114</th>\n",
       "      <td>Sevilla</td>\n",
       "      <td>Celta</td>\n",
       "      <td>2</td>\n",
       "      <td>1</td>\n",
       "      <td>True</td>\n",
       "      <td>False</td>\n",
       "    </tr>\n",
       "    <tr>\n",
       "      <th>134</th>\n",
       "      <td>Sevilla</td>\n",
       "      <td>La Coruna</td>\n",
       "      <td>2</td>\n",
       "      <td>0</td>\n",
       "      <td>True</td>\n",
       "      <td>False</td>\n",
       "    </tr>\n",
       "    <tr>\n",
       "      <th>226</th>\n",
       "      <td>Sevilla</td>\n",
       "      <td>Girona</td>\n",
       "      <td>1</td>\n",
       "      <td>0</td>\n",
       "      <td>True</td>\n",
       "      <td>False</td>\n",
       "    </tr>\n",
       "    <tr>\n",
       "      <th>263</th>\n",
       "      <td>Sevilla</td>\n",
       "      <td>Ath Bilbao</td>\n",
       "      <td>2</td>\n",
       "      <td>0</td>\n",
       "      <td>True</td>\n",
       "      <td>False</td>\n",
       "    </tr>\n",
       "    <tr>\n",
       "      <th>348</th>\n",
       "      <td>Sevilla</td>\n",
       "      <td>Sociedad</td>\n",
       "      <td>1</td>\n",
       "      <td>0</td>\n",
       "      <td>True</td>\n",
       "      <td>False</td>\n",
       "    </tr>\n",
       "    <tr>\n",
       "      <th>359</th>\n",
       "      <td>Sevilla</td>\n",
       "      <td>Real Madrid</td>\n",
       "      <td>3</td>\n",
       "      <td>2</td>\n",
       "      <td>True</td>\n",
       "      <td>False</td>\n",
       "    </tr>\n",
       "    <tr>\n",
       "      <th>374</th>\n",
       "      <td>Sevilla</td>\n",
       "      <td>Alaves</td>\n",
       "      <td>1</td>\n",
       "      <td>0</td>\n",
       "      <td>True</td>\n",
       "      <td>False</td>\n",
       "    </tr>\n",
       "  </tbody>\n",
       "</table>\n",
       "</div>"
      ],
      "text/plain": [
       "    Home_Team    Away_Team  Home_Goals  Away_Goals Home_Wins Home_Draws\n",
       "23    Sevilla        Eibar           3           0      True      False\n",
       "46    Sevilla   Las Palmas           1           0      True      False\n",
       "64    Sevilla       Malaga           2           0      True      False\n",
       "93    Sevilla      Leganes           2           1      True      False\n",
       "114   Sevilla        Celta           2           1      True      False\n",
       "134   Sevilla    La Coruna           2           0      True      False\n",
       "226   Sevilla       Girona           1           0      True      False\n",
       "263   Sevilla   Ath Bilbao           2           0      True      False\n",
       "348   Sevilla     Sociedad           1           0      True      False\n",
       "359   Sevilla  Real Madrid           3           2      True      False\n",
       "374   Sevilla       Alaves           1           0      True      False"
      ]
     },
     "execution_count": 24,
     "metadata": {},
     "output_type": "execute_result"
    }
   ],
   "source": [
    "# we can do the same to the other two teams \n",
    "\n",
    "filterDf_Espanol = df[(df['Home_Goals'] > df['Away_Goals']) & (df['Home_Team'] == \"Espanol\") ]\n",
    "filterDf_Sevilla = df[(df['Home_Goals'] > df['Away_Goals']) & (df['Home_Team'] == \"Sevilla\") ]\n",
    "\n",
    "#filterDf_Espanol\n",
    "filterDf_Sevilla"
   ]
  },
  {
   "cell_type": "code",
   "execution_count": 25,
   "metadata": {},
   "outputs": [
    {
     "name": "stdout",
     "output_type": "stream",
     "text": [
      "Sevilla won 11 Home Games out of 18 games\n",
      "Therefore, Sevilla won around 60.0 % of its games when playing at home\n",
      "\n",
      "Espanol won 8 Home Games out of 18 games\n",
      "Therefore, Espanol won  around 40.0 % of its games when playing at home\n",
      "\n"
     ]
    }
   ],
   "source": [
    "print (\"Sevilla won {m} Home Games\".format(m=len(filterDf_Sevilla)), 'out of 18 games')\n",
    "\n",
    "winPercentage_Sevilla =  (len(filterDf_Sevilla)/df_Barca_Home).round(1)  #we can use df_Barca_home since all teams play 18 games\n",
    "\n",
    "print(\"Therefore, Sevilla won around\", winPercentage_Sevilla *100, '% of its games when playing at home\\n')\n",
    "\n"
   ]
  },
  {
   "cell_type": "markdown",
   "metadata": {},
   "source": [
    "# Graphics"
   ]
  },
  {
   "cell_type": "code",
   "execution_count": 26,
   "metadata": {},
   "outputs": [
    {
     "data": {
      "image/png": "[encoded data removed]",
      "text/plain": [
       "<Figure size 432x288 with 1 Axes>"
      ]
     },
     "metadata": {},
     "output_type": "display_data"
    }
   ],
   "source": [
    "# Using a pie chart to illustrate the overal number of wins for Home Teams\n",
    "\n",
    "labels = 'Wins', 'Draws', 'Losses'\n",
    "\n",
    "sizes = [df_HomeBadResults, len(df[df_HomeWinners]), len(df[df_HomeTies])]\n",
    "\n",
    "explode = (0, 0, 0.1)\n",
    "\n",
    "fig1, ax1 = plt.subplots()\n",
    "\n",
    "ax1.pie(sizes, explode=explode, labels=labels, autopct='%1.1f%%', shadow=True, startangle=90)\n",
    "\n",
    "ax1.axis('equal')  \n",
    "\n",
    "plt.show()"
   ]
  },
  {
   "cell_type": "code",
   "execution_count": 27,
   "metadata": {},
   "outputs": [
    {
     "data": {
      "text/plain": [
       "Text(0.5, 0, 'Team')"
      ]
     },
     "execution_count": 27,
     "metadata": {},
     "output_type": "execute_result"
    },
    {
     "data": {
      "image/png": "[encoded data removed]",
      "text/plain": [
       "<Figure size 1440x576 with 1 Axes>"
      ]
     },
     "metadata": {
      "needs_background": "light"
     },
     "output_type": "display_data"
    }
   ],
   "source": [
    "# Comparing the amount of goals scored at home versus the amount of goals scored away\n",
    "# this comparison show that MORE teams scored MORE record of gols when at home\n",
    "\n",
    "#first illustration\n",
    "\n",
    "max_home = df.Home_Goals.sort_values(ascending = False)\n",
    "max_home.head(10)\n",
    "%matplotlib inline \n",
    "fig = plt.figure(figsize = (20,8))\n",
    "ax = fig.add_subplot(1,1,1)\n",
    "rects = ax.bar(range(20), max_home.head(20).values,align = \"center\")\n",
    "ax.set_xticks(range(20))\n",
    "ax.set_xticklabels(df.Home_Team.values,rotation = \"vertical\")  #check\n",
    "ax.set_title(\"Max # of goals scored at home\")\n",
    "ax.set_ylabel(\"Goals\")\n",
    "ax.set_xlabel(\"Team\")\n"
   ]
  },
  {
   "cell_type": "code",
   "execution_count": 28,
   "metadata": {},
   "outputs": [
    {
     "data": {
      "text/plain": [
       "Text(0.5, 0, 'Team')"
      ]
     },
     "execution_count": 28,
     "metadata": {},
     "output_type": "execute_result"
    },
    {
     "data": {
      "image/png": "[encoded data removed]",
      "text/plain": [
       "<Figure size 1440x576 with 1 Axes>"
      ]
     },
     "metadata": {
      "needs_background": "light"
     },
     "output_type": "display_data"
    }
   ],
   "source": [
    "#second illustration\n",
    "\n",
    "max_away = df.Away_Goals.sort_values(ascending = False)\n",
    "max_away.head(10)\n",
    "%matplotlib inline \n",
    "fig2 = plt.figure(figsize = (20,8))\n",
    "ax = fig2.add_subplot(1,1,1)\n",
    "rects = ax.bar(range(20), max_away.head(20).values,align = \"center\")\n",
    "ax.set_xticks(range(20))\n",
    "ax.set_xticklabels(df.Away_Team.values,rotation = \"vertical\")  #check\n",
    "ax.set_title(\"Max # of goals scored away\")\n",
    "ax.set_ylabel(\"Goals\")\n",
    "ax.set_xlabel(\"Team\")\n"
   ]
  },
  {
   "cell_type": "code",
   "execution_count": 29,
   "metadata": {},
   "outputs": [
    {
     "name": "stdout",
     "output_type": "stream",
     "text": [
      "588 + 436 = 1024  goals in the season\n"
     ]
    }
   ],
   "source": [
    "# Calculating number of goals in the season \n",
    "home_goals_sum = df['Home_Goals'].sum()\n",
    "away_goals_sum = df['Away_Goals'].sum()\n",
    "season_goals_sum = home_goals_sum + away_goals_sum \n",
    "print (home_goals_sum , '+', away_goals_sum , '=', season_goals_sum, ' goals in the season' )"
   ]
  },
  {
   "cell_type": "code",
   "execution_count": 30,
   "metadata": {},
   "outputs": [
    {
     "data": {
      "text/plain": [
       "Text(0, 0.5, 'Frequency')"
      ]
     },
     "execution_count": 30,
     "metadata": {},
     "output_type": "execute_result"
    },
    {
     "data": {
      "image/png": "[encoded data removed]",
      "text/plain": [
       "<Figure size 432x288 with 1 Axes>"
      ]
     },
     "metadata": {
      "needs_background": "light"
     },
     "output_type": "display_data"
    }
   ],
   "source": [
    "# Out of this numbers,  we make another representation of Home Goals stats\n",
    "\n",
    "hist = df.Home_Goals.hist(bins=30)\n",
    "hist2 = df.Away_Goals.hist(bins=30)\n",
    "hist.set_xlabel(\"Goals\", labelpad=20, weight='bold', size=12)\n",
    "hist.set_ylabel(\"Frequency\", labelpad=20, weight='bold', size=12)\n"
   ]
  },
  {
   "cell_type": "code",
   "execution_count": 31,
   "metadata": {},
   "outputs": [
    {
     "data": {
      "text/plain": [
       "<matplotlib.axes._subplots.AxesSubplot at 0x113a59222c8>"
      ]
     },
     "execution_count": 31,
     "metadata": {},
     "output_type": "execute_result"
    },
    {
     "data": {
      "image/png": "[encoded data removed]",
      "text/plain": [
       "<Figure size 432x288 with 1 Axes>"
      ]
     },
     "metadata": {
      "needs_background": "light"
     },
     "output_type": "display_data"
    }
   ],
   "source": [
    "#Comparing the average number of gols away x home to all teams\n",
    "\n",
    "df.groupby('Home_Team').mean().plot(kind='bar')"
   ]
  },
  {
   "cell_type": "code",
   "execution_count": 32,
   "metadata": {},
   "outputs": [
    {
     "data": {
      "text/plain": [
       "Text(0.5, 1.0, 'Goals When Sevilla played at Home')"
      ]
     },
     "execution_count": 32,
     "metadata": {},
     "output_type": "execute_result"
    },
    {
     "data": {
      "image/png": "[encoded data removed]",
      "text/plain": [
       "<Figure size 288x288 with 1 Axes>"
      ]
     },
     "metadata": {
      "needs_background": "light"
     },
     "output_type": "display_data"
    },
    {
     "data": {
      "image/png": "[encoded data removed]",
      "text/plain": [
       "<Figure size 288x288 with 1 Axes>"
      ]
     },
     "metadata": {
      "needs_background": "light"
     },
     "output_type": "display_data"
    }
   ],
   "source": [
    "# if we want to see this analysis closer, we can choose a team , and do this same study \n",
    "\n",
    "dfSevAway = df[ (df['Away_Team'] == \"Sevilla\") ]\n",
    "dfSevillaA  = dfSevAway.Away_Goals\n",
    "dfSevHome = df[ (df['Home_Team'] == \"Sevilla\") ]\n",
    "dfSevillaH  = dfSevHome.Home_Goals\n",
    "\n",
    "\n",
    "fig4 = plt.figure(figsize=(4,4))\n",
    "plt.hist(dfSevillaA, 100, color=\"pink\")\n",
    "plt.xlabel(\"# of Goals\")\n",
    "plt.ylabel(\"Number of Matches\")\n",
    "plt.title(\"Goals When Sevilla played Away\")\n",
    "\n",
    "\n",
    "fig3 = plt.figure(figsize=(4,4))\n",
    "plt.hist(dfSevillaH, 100, color=\"pink\")\n",
    "plt.xlabel(\"# of Goals\")\n",
    "plt.ylabel(\"Number of Matches\")\n",
    "plt.title(\"Goals When Sevilla played at Home\")"
   ]
  },
  {
   "cell_type": "code",
   "execution_count": 33,
   "metadata": {},
   "outputs": [
    {
     "data": {
      "text/plain": [
       "Text(0.5, 1.0, 'Goals When Sevilla played')"
      ]
     },
     "execution_count": 33,
     "metadata": {},
     "output_type": "execute_result"
    },
    {
     "data": {
      "image/png": "[encoded data removed]",
      "text/plain": [
       "<Figure size 432x288 with 1 Axes>"
      ]
     },
     "metadata": {
      "needs_background": "light"
     },
     "output_type": "display_data"
    }
   ],
   "source": [
    "dfSevAway.groupby('Home_Team').mean().plot(kind='bar')\n",
    "plt.title(\"Goals When Sevilla played\")"
   ]
  },
  {
   "cell_type": "markdown",
   "metadata": {},
   "source": [
    "# Predicting Results when playing at Home\n"
   ]
  },
  {
   "cell_type": "code",
   "execution_count": 34,
   "metadata": {},
   "outputs": [
    {
     "name": "stdout",
     "output_type": "stream",
     "text": [
      "    Home_Team    Away_Team  Home_Goals  Away_Goals Home_Wins Home_Draws\n",
      "4     Sevilla      Espanol           1           1     False       True\n",
      "23    Sevilla        Eibar           3           0      True      False\n",
      "46    Sevilla   Las Palmas           1           0      True      False\n",
      "64    Sevilla       Malaga           2           0      True      False\n",
      "93    Sevilla      Leganes           2           1      True      False\n",
      "114   Sevilla        Celta           2           1      True      False\n",
      "134   Sevilla    La Coruna           2           0      True      False\n",
      "150   Sevilla      Levante           0           0     False       True\n",
      "171   Sevilla        Betis           3           5     False      False\n",
      "207   Sevilla       Getafe           1           1     False       True\n",
      "226   Sevilla       Girona           1           0      True      False\n",
      "246   Sevilla   Ath Madrid           2           5     False      False\n",
      "263   Sevilla   Ath Bilbao           2           0      True      False\n",
      "274   Sevilla     Valencia           0           2     False      False\n",
      "293   Sevilla    Barcelona           2           2     False       True\n",
      "315   Sevilla   Villarreal           2           2     False       True\n",
      "348   Sevilla     Sociedad           1           0      True      False\n",
      "359   Sevilla  Real Madrid           3           2      True      False\n",
      "374   Sevilla       Alaves           1           0      True      False\n"
     ]
    },
    {
     "data": {
      "text/plain": [
       "19"
      ]
     },
     "execution_count": 34,
     "metadata": {},
     "output_type": "execute_result"
    }
   ],
   "source": [
    "# let's see the list of games, just to double check the data\n",
    "\n",
    "filterinfDataframe = df[(df['Home_Team'] == \"Sevilla\") ]\n",
    "\n",
    "print(filterinfDataframe)\n",
    "len(filterinfDataframe)"
   ]
  },
  {
   "cell_type": "markdown",
   "metadata": {},
   "source": [
    "# Taking our project to the next level"
   ]
  },
  {
   "cell_type": "code",
   "execution_count": 35,
   "metadata": {},
   "outputs": [
    {
     "name": "stdout",
     "output_type": "stream",
     "text": [
      "[1, 2, 2, 2, 2, 2, 2, 1, 0, 1, 2, 0, 2, 0, 1, 1, 2, 2, 2]\n"
     ]
    }
   ],
   "source": [
    "import pandas as pd \n",
    "from numpy.random.mtrand import shuffle\n",
    "\n",
    "data = []\n",
    "for _, d in filterinfDataframe.iterrows():\n",
    "    GoalsHome = d['Home_Goals']\n",
    "    GoalsAway  = d['Away_Goals']\n",
    "    \n",
    "    if GoalsHome > GoalsAway:\n",
    "        data.append(2)\n",
    "    elif GoalsHome < GoalsAway:     \n",
    "        data.append(0) \n",
    "    else: \n",
    "        data.append(1)\n",
    "Matches = 3\n",
    "import numpy as np\n",
    "InData = np.zeros((len(data)-Matches,Matches))\n",
    "OutData = np.zeros((len(data)-Matches))\n",
    "for i in range(len(data)-Matches):\n",
    "    InData[i] = data[i:i+Matches]\n",
    "    OutData[i]   = data[i+Matches]\n",
    "print(data)\n"
   ]
  },
  {
   "cell_type": "code",
   "execution_count": 36,
   "metadata": {},
   "outputs": [
    {
     "name": "stdout",
     "output_type": "stream",
     "text": [
      "[[1. 2. 2.]\n",
      " [2. 2. 2.]\n",
      " [2. 2. 2.]\n",
      " [2. 2. 2.]\n",
      " [2. 2. 2.]\n",
      " [2. 2. 1.]\n",
      " [2. 1. 0.]\n",
      " [1. 0. 1.]\n",
      " [0. 1. 2.]\n",
      " [1. 2. 0.]\n",
      " [2. 0. 2.]\n",
      " [0. 2. 0.]]\n",
      "[[2. 0. 1.]\n",
      " [0. 1. 1.]\n",
      " [1. 1. 2.]\n",
      " [1. 2. 2.]]\n",
      "[2. 2. 2. 2.]\n",
      "0.75\n"
     ]
    }
   ],
   "source": [
    "from sklearn.model_selection import train_test_split    \n",
    "train_x, test_x, train_y, test_y = train_test_split(InData,OutData,test_size=0.2, shuffle=False)\n",
    "from sklearn.naive_bayes import MultinomialNB  \n",
    "clf_nayve = MultinomialNB().fit(train_x, train_y) \n",
    "pred_naive = clf_nayve.predict(test_x)\n",
    "print(train_x)\n",
    "print(test_x)\n",
    "#print(train_y)\n",
    "#print(test_y)\n",
    "print(pred_naive)\n",
    "print(np.mean(test_y == pred_naive))"
   ]
  },
  {
   "cell_type": "code",
   "execution_count": 37,
   "metadata": {},
   "outputs": [
    {
     "data": {
      "text/plain": [
       "Index          128\n",
       "Home_Team     3040\n",
       "Away_Team     3040\n",
       "Home_Goals    3040\n",
       "Away_Goals    3040\n",
       "Home_Wins     3040\n",
       "Home_Draws    3040\n",
       "dtype: int64"
      ]
     },
     "execution_count": 37,
     "metadata": {},
     "output_type": "execute_result"
    }
   ],
   "source": [
    "\n",
    "df.memory_usage()"
   ]
  },
  {
   "cell_type": "code",
   "execution_count": null,
   "metadata": {},
   "outputs": [],
   "source": []
  }
 ],
 "metadata": {
  "kernelspec": {
   "display_name": "Python 3",
   "language": "python",
   "name": "python3"
  },
  "language_info": {
   "codemirror_mode": {
    "name": "ipython",
    "version": 3
   },
   "file_extension": ".py",
   "mimetype": "text/x-python",
   "name": "python",
   "nbconvert_exporter": "python",
   "pygments_lexer": "ipython3",
   "version": "3.7.4"
  }
 },
 "nbformat": 4,
 "nbformat_minor": 2
}
